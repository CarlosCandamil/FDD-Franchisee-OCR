{
 "cells": [
  {
   "cell_type": "code",
   "execution_count": null,
   "metadata": {},
   "outputs": [],
   "source": [
    "# Import the required libraries\n",
    "import re\n",
    "import csv"
   ]
  },
  {
   "cell_type": "code",
   "execution_count": null,
   "metadata": {},
   "outputs": [],
   "source": [
    "# Define a function to extract franchisee information using regex\n",
    "def extract_franchisee_info(text, pattern):\n",
    "    matches = re.findall(pattern, text)\n",
    "    new_list = list(set(matches))\n",
    "    return new_list"
   ]
  },
  {
   "cell_type": "code",
   "execution_count": null,
   "metadata": {},
   "outputs": [],
   "source": [
    "\n",
    "# Define a function to save the extracted information to a CSV file\n",
    "def save_to_csv(file_path, data):\n",
    "    with open(file_path, 'w', newline='') as file:\n",
    "        writer = csv.writer(file)\n",
    "        writer.writerows([[item] for item in data])"
   ]
  },
  {
   "cell_type": "code",
   "execution_count": null,
   "metadata": {},
   "outputs": [],
   "source": [
    "\n",
    "# Extract franchisee information using regex\n",
    "folder_paths = ['PDF/bking', 'PDF/Popeyes', 'PDF/Carl', 'PDF/Chick', 'PDF/Denny']\n",
    "patterns = {\n",
    "    'PDF/bking': r\"(?<=[\\n\\r])\\s*([A-Z][^\\n\\r\\d]*?)\\s*(?:Inc|Ltd|Corp|LLC|LP)\",\n",
    "    'PDF/Popeyes': r\"(?<=[\\n\\r])\\s*([A-Z][^\\n\\r\\d]*?)\\s*(?:Inc|Ltd|Corp|LLC|LP)\\b\",\n",
    "    'PDF/Carl': r\"\\b[A-Za-z\\s,.'-]+(?:\\s+Inc\\.?|\\s+Ltd\\.?|\\s+Corp\\.?|\\s+LLC\\.?|\\s+LP\\.?)\\b\",\n",
    "    'PDF/Chick': r\"(?:[A-Za-z\\s,.'-]+(?:\\s+Inc\\.?|\\s+Ltd\\.?|\\s+Corp\\.?|\\s+LLC\\.?|\\s+LP\\.?))\",\n",
    "    'PDF/Denny': r\"(?:[A-Za-z\\s,.'-]+(?:\\s+Inc\\.?|\\s+Ltd\\.?|\\s+Corp\\.?|\\s+LLC\\.?|\\s+LP\\.?))\"\n",
    "}\n",
    "for folder_path, pattern in patterns.items():\n",
    "    with open(f'{folder_path}/result.txt', 'r') as f:\n",
    "        text = f.read()\n",
    "    franchisee_info = extract_franchisee_info(text, pattern)\n",
    "    save_to_csv(f'{folder_path}/franchisee_info.csv', franchisee_info)"
   ]
  }
 ],
 "metadata": {
  "kernelspec": {
   "display_name": "base",
   "language": "python",
   "name": "python3"
  },
  "language_info": {
   "name": "python",
   "version": "3.9.12"
  }
 },
 "nbformat": 4,
 "nbformat_minor": 2
}
