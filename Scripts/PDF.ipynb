{
 "cells": [
  {
   "cell_type": "code",
   "execution_count": null,
   "metadata": {},
   "outputs": [],
   "source": [
    "# Import the required library\n",
    "from pdf2image import convert_from_path"
   ]
  },
  {
   "cell_type": "code",
   "execution_count": null,
   "metadata": {},
   "outputs": [],
   "source": [
    "# Define a function to convert PDFs to JPEGs\n",
    "def convert_pdf_to_jpeg(pdf_file, output_dir):\n",
    "    pages = convert_from_path(pdf_file, 500)\n",
    "    for count, page in enumerate(pages):\n",
    "        page.save(f'{output_dir}/out{count}.jpg', 'JPEG')"
   ]
  },
  {
   "cell_type": "code",
   "execution_count": null,
   "metadata": {},
   "outputs": [],
   "source": [
    "# Convert PDFs to JPEGs\n",
    "convert_pdf_to_jpeg('PDF/burgerking.pdf', 'PDF/bking')\n",
    "convert_pdf_to_jpeg('PDF/Popeyes/Popeyes.pdf', 'PDF/Popeyes')\n",
    "convert_pdf_to_jpeg('FDD/Wendy.pdf', 'PDF/Wendy')\n",
    "convert_pdf_to_jpeg('FDD/Denny.pdf', 'PDF/Denny')"
   ]
  }
 ],
 "metadata": {
  "kernelspec": {
   "display_name": "base",
   "language": "python",
   "name": "python3"
  },
  "language_info": {
   "name": "python",
   "version": "3.9.12"
  }
 },
 "nbformat": 4,
 "nbformat_minor": 2
}
